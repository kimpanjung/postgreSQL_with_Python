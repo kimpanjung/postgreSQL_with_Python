{
 "cells": [
  {
   "cell_type": "code",
   "execution_count": 1,
   "metadata": {},
   "outputs": [],
   "source": [
    "import psycopg2\n",
    "from datetime import datetime\n",
    "import json\n"
   ]
  },
  {
   "cell_type": "code",
   "execution_count": 2,
   "metadata": {},
   "outputs": [],
   "source": [
    "# PostgreSQL 연결 정보 설정\n",
    "db_params = {\n",
    "    \"dbname\": \"postgres\",\n",
    "    \"user\": \"postgres\",\n",
    "    \"password\": \"1234\",\n",
    "    \"host\": \"localhost\",\n",
    "    \"port\": \"5432\"\n",
    "}"
   ]
  },
  {
   "cell_type": "code",
   "execution_count": 3,
   "metadata": {},
   "outputs": [],
   "source": [
    "\n",
    "from datetime import datetime, timezone, timedelta\n",
    "\n",
    "# 현재 시간을 시스템의 기본 타임존으로 생성\n",
    "current_time_utc = datetime.now(timezone.utc)\n",
    "\n",
    "# 현재 시간을 'Asia/Seoul' 타임존으로 변환\n",
    "seoul_timezone = timezone(timedelta(hours=9))  # 'Asia/Seoul'은 UTC+9\n",
    "current_time_seoul = current_time_utc.astimezone(seoul_timezone)\n",
    "\n",
    "# 테이블 생성 쿼리\n",
    "create_table_query = \"\"\"\n",
    "CREATE TABLE IF NOT EXISTS car_scanning.logging (\n",
    "    log_id SERIAL PRIMARY KEY,\n",
    "    log_datetime TIMESTAMP DEFAULT (CURRENT_TIMESTAMP AT TIME ZONE 'KST'),\n",
    "    car_number VARCHAR(20),\n",
    "    image_file_name VARCHAR(255),\n",
    "    json_file_name VARCHAR(255),\n",
    "    saved_location VARCHAR(255)\n",
    ");\n",
    "\"\"\"\n",
    "\n",
    "# 로그 정보\n",
    "log_data = {\n",
    "    \"car_number\": \"ABC123\",\n",
    "    \"image_file_name\": \"example_image.jpg\",\n",
    "    \"json_file_name\": \"example_json.json\",\n",
    "    \"saved_location\": \"/path/to/save/location\"\n",
    "}"
   ]
  },
  {
   "cell_type": "code",
   "execution_count": 4,
   "metadata": {},
   "outputs": [],
   "source": [
    " # PostgreSQL 연결\n",
    "conn = psycopg2.connect(**db_params)\n",
    "cursor = conn.cursor()"
   ]
  },
  {
   "cell_type": "code",
   "execution_count": 5,
   "metadata": {},
   "outputs": [],
   "source": [
    " # 테이블 생성\n",
    "cursor.execute(create_table_query)"
   ]
  },
  {
   "cell_type": "code",
   "execution_count": 6,
   "metadata": {},
   "outputs": [],
   "source": [
    "# 로그 정보 삽입\n",
    "insert_query = \"\"\"\n",
    "INSERT INTO car_scanning.logging (car_number, image_file_name, json_file_name, saved_location)\n",
    "VALUES (%s, %s, %s, %s);\n",
    "\"\"\"\n",
    "cursor.execute(insert_query, (\n",
    "    log_data[\"car_number\"],\n",
    "    log_data[\"image_file_name\"],\n",
    "    log_data[\"json_file_name\"],\n",
    "    log_data[\"saved_location\"]\n",
    "))\n",
    "\n",
    "# 변경사항 커밋\n",
    "conn.commit()"
   ]
  },
  {
   "cell_type": "code",
   "execution_count": 7,
   "metadata": {},
   "outputs": [],
   "source": [
    "# 연결 및 커서 닫기\n",
    "cursor.close()\n",
    "conn.close()\n"
   ]
  },
  {
   "cell_type": "code",
   "execution_count": null,
   "metadata": {},
   "outputs": [],
   "source": []
  }
 ],
 "metadata": {
  "kernelspec": {
   "display_name": "playground",
   "language": "python",
   "name": "python3"
  },
  "language_info": {
   "codemirror_mode": {
    "name": "ipython",
    "version": 3
   },
   "file_extension": ".py",
   "mimetype": "text/x-python",
   "name": "python",
   "nbconvert_exporter": "python",
   "pygments_lexer": "ipython3",
   "version": "3.8.17"
  }
 },
 "nbformat": 4,
 "nbformat_minor": 2
}
